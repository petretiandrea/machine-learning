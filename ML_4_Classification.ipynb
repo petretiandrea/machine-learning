{
 "nbformat": 4,
 "nbformat_minor": 0,
 "metadata": {
  "colab": {
   "name": "ML - 4 - Classification.ipynb",
   "provenance": [],
   "collapsed_sections": [],
   "toc_visible": true
  },
  "kernelspec": {
   "name": "python3",
   "language": "python",
   "display_name": "Python 3"
  },
  "language_info": {
   "name": "python"
  }
 },
 "cells": [
  {
   "cell_type": "code",
   "metadata": {
    "id": "wt4ACGYFV0Ab"
   },
   "source": [
    "# Python ≥3.5 is required\n",
    "import sys\n",
    "assert sys.version_info >= (3, 5)\n",
    "\n",
    "# Scikit-Learn ≥0.20 is required\n",
    "import sklearn\n",
    "assert sklearn.__version__ >= \"0.20\"\n",
    "\n",
    "# Common imports\n",
    "import numpy as np\n",
    "import os\n",
    "\n",
    "# to make this notebook's output stable across runs\n",
    "np.random.seed(42)\n",
    "\n",
    "# To plot pretty figures\n",
    "%matplotlib inline\n",
    "import matplotlib as mpl\n",
    "import matplotlib.pyplot as plt\n",
    "mpl.rc('axes', labelsize=14)\n",
    "mpl.rc('xtick', labelsize=12)\n",
    "mpl.rc('ytick', labelsize=12)\n",
    "\n",
    "# Where to save the figures\n",
    "PROJECT_ROOT_DIR = \".\"\n",
    "IMAGES_PATH = os.path.join(PROJECT_ROOT_DIR, \"images\")\n",
    "os.makedirs(IMAGES_PATH, exist_ok=True)\n",
    "\n",
    "def save_fig(fig_id, tight_layout=True, fig_extension=\"png\", resolution=300):\n",
    "    path = os.path.join(IMAGES_PATH, fig_id + \".\" + fig_extension)\n",
    "    print(\"Saving figure\", fig_id)\n",
    "    if tight_layout:\n",
    "        plt.tight_layout()\n",
    "    plt.savefig(path, format=fig_extension, dpi=resolution)"
   ],
   "execution_count": 3,
   "outputs": []
  },
  {
   "cell_type": "markdown",
   "metadata": {
    "id": "E5_Jy341WRF9"
   },
   "source": [
    "## MNIST"
   ]
  },
  {
   "cell_type": "code",
   "metadata": {
    "colab": {
     "base_uri": "https://localhost:8080/"
    },
    "id": "WtmwSLcFWVBE",
    "outputId": "68f10eee-c1d2-449a-837a-4b938060c1a0",
    "pycharm": {
     "is_executing": true
    }
   },
   "source": [
    "from sklearn.datasets import fetch_openml\n",
    "mnist = fetch_openml('mnist_784', version=1)\n",
    "mnist.keys() # DESCR describe dataset, data one row per instance and one column for feature"
   ],
   "execution_count": null,
   "outputs": []
  },
  {
   "cell_type": "code",
   "metadata": {
    "colab": {
     "base_uri": "https://localhost:8080/"
    },
    "id": "x2ciT4LoXS9d",
    "outputId": "ac681cce-8793-4fb6-b80c-2941b393d584"
   },
   "source": [
    "X, y = mnist['data'], mnist['target']\n",
    "print(f'X shape: {X.shape}') # feature length of 748\n",
    "print('y shape: ', y.shape)"
   ],
   "execution_count": null,
   "outputs": [
    {
     "output_type": "stream",
     "text": [
      "X shape: (70000, 784)\n",
      "y shape:  (70000,)\n"
     ],
     "name": "stdout"
    }
   ]
  },
  {
   "cell_type": "code",
   "metadata": {
    "colab": {
     "base_uri": "https://localhost:8080/",
     "height": 248
    },
    "id": "Ikwb9Q0CXzBD",
    "outputId": "26cc7036-f9e0-400b-d555-24e89b4c6ff7"
   },
   "source": [
    "import matplotlib as mpl\n",
    "import matplotlib.pyplot as plt\n",
    "\n",
    "some_digit = X[0]\n",
    "some_digit_image = some_digit.reshape(28, 28)\n",
    "\n",
    "plt.imshow(some_digit_image, cmap='binary')\n",
    "plt.axis('off')\n",
    "plt.show()"
   ],
   "execution_count": null,
   "outputs": [
    {
     "output_type": "display_data",
     "data": {
      "image/png": "[encoded data removed]",
      "text/plain": [
       "<Figure size 432x288 with 1 Axes>"
      ]
     },
     "metadata": {
      "tags": [],
      "needs_background": "light"
     }
    }
   ]
  },
  {
   "cell_type": "code",
   "metadata": {
    "colab": {
     "base_uri": "https://localhost:8080/",
     "height": 35
    },
    "id": "b5slrjGXYKyX",
    "outputId": "dfe23861-aa40-4adf-f5ef-aff70e2a3e15"
   },
   "source": [
    "y[0]"
   ],
   "execution_count": null,
   "outputs": [
    {
     "output_type": "execute_result",
     "data": {
      "application/vnd.google.colaboratory.intrinsic+json": {
       "type": "string"
      },
      "text/plain": [
       "'5'"
      ]
     },
     "metadata": {
      "tags": []
     },
     "execution_count": 5
    }
   ]
  },
  {
   "cell_type": "code",
   "metadata": {
    "id": "vek-AbWNYNzG"
   },
   "source": [
    "# convert string label to int\n",
    "y = y.astype(np.uint8)"
   ],
   "execution_count": null,
   "outputs": []
  },
  {
   "cell_type": "code",
   "metadata": {
    "id": "VB2ZGvdEYbZ8"
   },
   "source": [
    "# mnist already define training and test set (first 60000 are traninig)\n",
    "X_train, X_test, y_train, y_test = X[:60000], X[60000:], y[:60000], y[60000:]"
   ],
   "execution_count": null,
   "outputs": []
  },
  {
   "cell_type": "markdown",
   "metadata": {
    "id": "Ru7J9yswZKad"
   },
   "source": [
    "## Binary classifier 5 detector"
   ]
  },
  {
   "cell_type": "code",
   "metadata": {
    "colab": {
     "base_uri": "https://localhost:8080/"
    },
    "id": "kTxW109MYtRk",
    "outputId": "4507da7d-e48f-48fd-b43e-feff2fa788c3"
   },
   "source": [
    "y_train_5 = (y_train == 5)\n",
    "y_test_5 = (y_test == 5)\n",
    "print('Predict 5 example ', y_test_5[:10]) # its like one hot"
   ],
   "execution_count": null,
   "outputs": [
    {
     "output_type": "stream",
     "text": [
      "Predict 5 example  [False False False False False False False False  True False]\n"
     ],
     "name": "stdout"
    }
   ]
  },
  {
   "cell_type": "code",
   "metadata": {
    "colab": {
     "base_uri": "https://localhost:8080/"
    },
    "id": "hY3gE3rsZX4d",
    "outputId": "a7d46206-4b5f-4b4e-94f5-fd5496806772"
   },
   "source": [
    "from sklearn.linear_model import SGDClassifier\n",
    "sgd = SGDClassifier(random_state=42)\n",
    "sgd.fit(X_train, y_train_5)"
   ],
   "execution_count": null,
   "outputs": [
    {
     "output_type": "execute_result",
     "data": {
      "text/plain": [
       "SGDClassifier(alpha=0.0001, average=False, class_weight=None,\n",
       "              early_stopping=False, epsilon=0.1, eta0=0.0, fit_intercept=True,\n",
       "              l1_ratio=0.15, learning_rate='optimal', loss='hinge',\n",
       "              max_iter=1000, n_iter_no_change=5, n_jobs=None, penalty='l2',\n",
       "              power_t=0.5, random_state=42, shuffle=True, tol=0.001,\n",
       "              validation_fraction=0.1, verbose=0, warm_start=False)"
      ]
     },
     "metadata": {
      "tags": []
     },
     "execution_count": 9
    }
   ]
  },
  {
   "cell_type": "code",
   "metadata": {
    "colab": {
     "base_uri": "https://localhost:8080/"
    },
    "id": "iwBsB1FxZ3rQ",
    "outputId": "b5f9555e-01a2-498f-f33d-e60a7492d5a2"
   },
   "source": [
    "sgd.predict([some_digit]) # predict image that contains 5"
   ],
   "execution_count": null,
   "outputs": [
    {
     "output_type": "execute_result",
     "data": {
      "text/plain": [
       "array([ True])"
      ]
     },
     "metadata": {
      "tags": []
     },
     "execution_count": 10
    }
   ]
  },
  {
   "cell_type": "markdown",
   "metadata": {
    "id": "9DHMDQAWaVSR"
   },
   "source": [
    "### Measure performance using cross-validation"
   ]
  },
  {
   "cell_type": "code",
   "metadata": {
    "colab": {
     "base_uri": "https://localhost:8080/"
    },
    "id": "k60U88K2Z_X8",
    "outputId": "c7405d54-9277-4e76-b160-a6728b0af69d"
   },
   "source": [
    "from sklearn.model_selection import StratifiedKFold\n",
    "from sklearn.base import clone\n",
    "\n",
    "skfolds = StratifiedKFold(n_splits=3, random_state=42, shuffle=True)\n",
    "\n",
    "for train_index, test_index in skfolds.split(X_train, y_train_5):\n",
    "  clone_clf = clone(sgd)\n",
    "  X_train_folds = X_train[train_index]\n",
    "  y_train_folds = y_train_5[train_index]\n",
    "  X_test_folds = X_train[test_index]\n",
    "  y_test_folds = y_train_5[test_index]\n",
    "\n",
    "  clone_clf.fit(X_train_folds, y_train_folds)\n",
    "  y_pred = clone_clf.predict(X_test_folds)\n",
    "  right_prediction = sum(y_pred == y_test_folds)\n",
    "  print(right_prediction / len(y_pred))"
   ],
   "execution_count": null,
   "outputs": [
    {
     "output_type": "stream",
     "text": [
      "0.9669\n",
      "0.91625\n",
      "0.96785\n"
     ],
     "name": "stdout"
    }
   ]
  },
  {
   "cell_type": "code",
   "metadata": {
    "colab": {
     "base_uri": "https://localhost:8080/"
    },
    "id": "qHKqZYj2b8i9",
    "outputId": "20c8fb87-99cc-49d3-8df0-5ff4391d2c90"
   },
   "source": [
    "from sklearn.model_selection import cross_val_score\n",
    "scores = cross_val_score(sgd, X_train, y_train_5, cv=3, scoring='accuracy') # 1 fold as test set, 2 fold as traning. Model is trained 3 times\n",
    "print('Scores: ', scores)\n",
    "print('Mean: ', scores.mean())\n",
    "print('Stddev: ', scores.std())"
   ],
   "execution_count": null,
   "outputs": [
    {
     "output_type": "stream",
     "text": [
      "Scores:  [0.95035 0.96035 0.9604 ]\n",
      "Mean:  0.9570333333333334\n",
      "Stddev:  0.004725874404688398\n"
     ],
     "name": "stdout"
    }
   ]
  },
  {
   "cell_type": "code",
   "metadata": {
    "id": "4pL1hrQJViUB"
   },
   "source": [
    "# not 5 classifier\n",
    "from sklearn.base import BaseEstimator\n",
    "class Never5Classifier(BaseEstimator):\n",
    "  def fit(self, X, y=None): pass\n",
    "  def predict(self, X):\n",
    "    return np.zeros((len(X), 1), dtype=bool)"
   ],
   "execution_count": null,
   "outputs": []
  },
  {
   "cell_type": "code",
   "metadata": {
    "colab": {
     "base_uri": "https://localhost:8080/"
    },
    "id": "nzIwD5FqWHOq",
    "outputId": "4b3436a9-f8aa-4341-d25c-631f135c58b2"
   },
   "source": [
    "never_5 = Never5Classifier()\n",
    "scores = cross_val_score(never_5, X_train, y_train_5, cv=3, scoring='accuracy') # 1 fold as test set, 2 fold as traning. Model is trained 3 times\n",
    "print('Scores: ', scores)\n",
    "print('Mean: ', scores.mean())\n",
    "print('Stddev: ', scores.std())\n",
    "# 90 % here, this means that only 10% of images contains 5.\n",
    "# this means taht 90% times the classifier do the right thing. Accuracy is not a right indicator"
   ],
   "execution_count": null,
   "outputs": [
    {
     "output_type": "stream",
     "text": [
      "Scores:  [0.91125 0.90855 0.90915]\n",
      "Mean:  0.90965\n",
      "Stddev:  0.0011575836902790325\n"
     ],
     "name": "stdout"
    }
   ]
  },
  {
   "cell_type": "code",
   "metadata": {
    "id": "ObOt0egcWn5K"
   },
   "source": [
    "# confusion matrix\n",
    "from sklearn.model_selection import cross_val_predict\n",
    "y_train_pred = cross_val_predict(sgd, X_train, y_train_5, cv=3)"
   ],
   "execution_count": null,
   "outputs": []
  },
  {
   "cell_type": "code",
   "metadata": {
    "colab": {
     "base_uri": "https://localhost:8080/"
    },
    "id": "x8KZiGe9W3Gu",
    "outputId": "15ba9edd-d1ea-4807-d3a3-a558dcb7f351"
   },
   "source": [
    "from sklearn.metrics import confusion_matrix\n",
    "confusion_matrix(y_train_5, y_train_pred)"
   ],
   "execution_count": null,
   "outputs": [
    {
     "output_type": "execute_result",
     "data": {
      "text/plain": [
       "array([[53892,   687],\n",
       "       [ 1891,  3530]])"
      ]
     },
     "metadata": {
      "tags": []
     },
     "execution_count": 16
    }
   ]
  },
  {
   "cell_type": "code",
   "metadata": {
    "colab": {
     "base_uri": "https://localhost:8080/"
    },
    "id": "fKZqIymFXg0Y",
    "outputId": "bb66867d-0184-4ab5-fd37-22528053af42"
   },
   "source": [
    "# metriche coincisce: precision e recall\n",
    "from sklearn.metrics import precision_score, recall_score\n",
    "\n",
    "precision = precision_score(y_train_5, y_train_pred) # TP / (TP + FP) # quando dice che è 5 ci becca x percento volte\n",
    "recall = recall_score(y_train_5, y_train_pred) # individua x percento volte i 5\n",
    "print(f'Precision: {precision}, Recall: {recall}')"
   ],
   "execution_count": null,
   "outputs": [
    {
     "output_type": "stream",
     "text": [
      "Precision: 0.8370879772350012, Recall: 0.6511713705958311\n"
     ],
     "name": "stdout"
    }
   ]
  },
  {
   "cell_type": "code",
   "metadata": {
    "colab": {
     "base_uri": "https://localhost:8080/"
    },
    "id": "SqITu87IYXVT",
    "outputId": "23310c1e-4050-4f95-ff2a-61817fe3b22d"
   },
   "source": [
    "# f1 - score is high when precision and recall are high\n",
    "from sklearn.metrics import f1_score\n",
    "f1_score(y_train_5, y_train_pred)"
   ],
   "execution_count": null,
   "outputs": [
    {
     "output_type": "execute_result",
     "data": {
      "text/plain": [
       "0.7325171197343846"
      ]
     },
     "metadata": {
      "tags": []
     },
     "execution_count": 18
    }
   ]
  },
  {
   "cell_type": "markdown",
   "metadata": {
    "id": "jAamrjZgYnu9"
   },
   "source": [
    "A volte si tara se si vuole avere più precision o più recall a seconda del contesto"
   ]
  },
  {
   "cell_type": "code",
   "metadata": {
    "id": "i3ydWm9oYugK",
    "colab": {
     "base_uri": "https://localhost:8080/"
    },
    "outputId": "d0b6f1e5-a246-4159-deae-eb65e80c05df"
   },
   "source": [
    "# si usano soglie diverse con sklearn non posso direttamente cambiare soglia\n",
    "# ma posso prendere i valori di decisioni e fare una scelta su quelli\n",
    "\n",
    "y_scores = sgd.decision_function([some_digit])\n",
    "print('Decision values: ', y_scores)\n",
    "threshold = 0\n",
    "y_some_digit_pred = y_scores > threshold\n",
    "print('Prediction ', y_some_digit_pred)"
   ],
   "execution_count": null,
   "outputs": [
    {
     "output_type": "stream",
     "text": [
      "Decision values:  [2164.22030239]\n",
      "Prediction  [ True]\n"
     ],
     "name": "stdout"
    }
   ]
  },
  {
   "cell_type": "code",
   "metadata": {
    "colab": {
     "base_uri": "https://localhost:8080/"
    },
    "id": "j1qtptCVryof",
    "outputId": "2849b4c2-5137-4dca-8d8e-298c2b140cf8"
   },
   "source": [
    "# higher threshold increase precsion lowering recall\n",
    "threshold = 8000\n",
    "y_some_digit_pred = y_scores > threshold\n",
    "print('Prediction ', y_some_digit_pred)"
   ],
   "execution_count": null,
   "outputs": [
    {
     "output_type": "stream",
     "text": [
      "Prediction  [False]\n"
     ],
     "name": "stdout"
    }
   ]
  },
  {
   "cell_type": "code",
   "metadata": {
    "id": "ak7j2CcGr-rZ"
   },
   "source": [
    "# how to find right threshold? use precision-recall curve\n",
    "y_scores = cross_val_predict(sgd, X_train, y_train_5, cv=3, method='decision_function') # call this instead of predict method"
   ],
   "execution_count": null,
   "outputs": []
  },
  {
   "cell_type": "code",
   "metadata": {
    "colab": {
     "base_uri": "https://localhost:8080/",
     "height": 519
    },
    "id": "z-zA3DdXsZEy",
    "outputId": "38aa8a40-d582-4d25-ec8d-73ae39e996c1"
   },
   "source": [
    "from sklearn.metrics import precision_recall_curve\n",
    "\n",
    "def plot_precision_recall_vs_threshold(precisions, recalls, thresholds):\n",
    "  plt.plot(thresholds, precisions[:-1], \"b--\", label=\"Precision\")\n",
    "  plt.plot(thresholds, recalls[:-1], \"g--\", label=\"Recall\")\n",
    "\n",
    "\n",
    "def precision_vs_recall(precisions, recalls):\n",
    "  plt.plot(precisions, recalls, \"b\", label=\"Prec vs Recall\")\n",
    "\n",
    "precisions, recalls, thresholds = precision_recall_curve(y_train_5, y_scores)\n",
    "\n",
    "plot_precision_recall_vs_threshold(precisions, recalls, thresholds)\n",
    "plt.show()\n",
    "precision_vs_recall(precisions, recalls)\n",
    "plt.show()"
   ],
   "execution_count": null,
   "outputs": [
    {
     "output_type": "display_data",
     "data": {
      "image/png": "[encoded data removed]",
      "text/plain": [
       "<Figure size 432x288 with 1 Axes>"
      ]
     },
     "metadata": {
      "tags": [],
      "needs_background": "light"
     }
    },
    {
     "output_type": "display_data",
     "data": {
      "image/png": "[encoded data removed]",
      "text/plain": [
       "<Figure size 432x288 with 1 Axes>"
      ]
     },
     "metadata": {
      "tags": [],
      "needs_background": "light"
     }
    }
   ]
  },
  {
   "cell_type": "code",
   "metadata": {
    "colab": {
     "base_uri": "https://localhost:8080/"
    },
    "id": "DZPJd5gQto3-",
    "outputId": "d8ec40ea-e9eb-4b72-a302-c51b5d0f5ae8"
   },
   "source": [
    "# an example select the threshold that give 90% of precision\n",
    "threshold_90_precision = thresholds[np.argmax(precisions >= 0.90)]\n",
    "print(threshold_90_precision)"
   ],
   "execution_count": null,
   "outputs": [
    {
     "output_type": "stream",
     "text": [
      "3370.0194991439557\n"
     ],
     "name": "stdout"
    }
   ]
  },
  {
   "cell_type": "code",
   "metadata": {
    "colab": {
     "base_uri": "https://localhost:8080/"
    },
    "id": "G6qTTftgt7II",
    "outputId": "f7d3d093-5b5d-44a5-f95d-8f9f4b588b0d"
   },
   "source": [
    "# predict with above threhsold\n",
    "y_train_pred_90 = (y_scores >= threshold_90_precision)\n",
    "print('Precision: ', precision_score(y_train_5, y_train_pred_90)) # we expect 90\n",
    "print('Recall ', recall_score(y_train_5, y_train_pred_90)) # we expect lower value"
   ],
   "execution_count": null,
   "outputs": [
    {
     "output_type": "stream",
     "text": [
      "Precision:  0.9000345901072293\n",
      "Recall  0.4799852425751706\n"
     ],
     "name": "stdout"
    }
   ]
  },
  {
   "cell_type": "code",
   "metadata": {
    "colab": {
     "base_uri": "https://localhost:8080/",
     "height": 268
    },
    "id": "EldYFOtPuZUJ",
    "outputId": "037ac805-df13-4e7c-ffbb-4a13e3dff96e"
   },
   "source": [
    "# ROC CURVE = plot tp rate vs fp rate\n",
    "from sklearn.metrics import roc_curve\n",
    "\n",
    "def plot_roc(fpr, tpr, label=None):\n",
    "  plt.plot(fpr, tpr, linewidth=2, label=label)\n",
    "  plt.plot([0, 1], [0, 1], \"k--\") # random classifier\n",
    "\n",
    "fpr, tpr, thresholds = roc_curve(y_train_5, y_scores)\n",
    "\n",
    "plot_roc(fpr, tpr)\n",
    "plt.show()"
   ],
   "execution_count": null,
   "outputs": [
    {
     "output_type": "display_data",
     "data": {
      "image/png": "[encoded data removed]",
      "text/plain": [
       "<Figure size 432x288 with 1 Axes>"
      ]
     },
     "metadata": {
      "tags": [],
      "needs_background": "light"
     }
    }
   ]
  },
  {
   "cell_type": "code",
   "metadata": {
    "colab": {
     "base_uri": "https://localhost:8080/"
    },
    "id": "5r_5KncevXx3",
    "outputId": "a67b004e-8269-4e8d-f59e-013b8e1db0c3"
   },
   "source": [
    "# AUC l'area sotto la curva ROC.\n",
    "# if is near to 1 is good, near to 0.5 is random classifier\n",
    "\n",
    "from sklearn.metrics import roc_auc_score\n",
    "print('Area ', roc_auc_score(y_train_5, y_scores))"
   ],
   "execution_count": null,
   "outputs": [
    {
     "output_type": "stream",
     "text": [
      "Area  0.9604938554008616\n"
     ],
     "name": "stdout"
    }
   ]
  },
  {
   "cell_type": "markdown",
   "metadata": {
    "id": "ZvDe5v9_vunK"
   },
   "source": [
    "### Train random forest and compare with SGD (above)"
   ]
  },
  {
   "cell_type": "code",
   "metadata": {
    "id": "jaq42JmBvyxn"
   },
   "source": [
    "from sklearn.ensemble import RandomForestClassifier\n",
    "\n",
    "forest = RandomForestClassifier(random_state=42)\n",
    "y_probs_forest = cross_val_predict(forest, X_train, y_train_5, cv=3, method='predict_proba')"
   ],
   "execution_count": null,
   "outputs": []
  },
  {
   "cell_type": "code",
   "metadata": {
    "id": "NyhyCuZpwKQ0"
   },
   "source": [
    "y_scores_forest = y_probs_forest[:, 1]\n",
    "fpr_forest, tpr_forest, thresholds_forest = roc_curve(y_train_5, y_scores_forest)"
   ],
   "execution_count": null,
   "outputs": []
  },
  {
   "cell_type": "code",
   "metadata": {
    "colab": {
     "base_uri": "https://localhost:8080/",
     "height": 268
    },
    "id": "b-R3SdYpwcW0",
    "outputId": "55499511-c2ce-4fff-e43b-4468d43587f9"
   },
   "source": [
    "plt.plot(fpr, tpr, \"b--\", \"SGD\")\n",
    "plot_roc(fpr_forest, tpr_forest, \"Random Forest\")\n",
    "plt.legend(loc='lower right')\n",
    "plt.show()"
   ],
   "execution_count": null,
   "outputs": [
    {
     "output_type": "display_data",
     "data": {
      "image/png": "[encoded data removed]",
      "text/plain": [
       "<Figure size 432x288 with 1 Axes>"
      ]
     },
     "metadata": {
      "tags": [],
      "needs_background": "light"
     }
    }
   ]
  },
  {
   "cell_type": "code",
   "metadata": {
    "colab": {
     "base_uri": "https://localhost:8080/"
    },
    "id": "HxDKlYJ4wy1Q",
    "outputId": "24cfe551-941e-4dab-f6f7-efed5aa3552a"
   },
   "source": [
    "# auc (area under curve)\n",
    "area = roc_auc_score(y_train_5, y_scores_forest) # higher than sgd\n",
    "print(f'AUC: {area}') # better than sgd classifier"
   ],
   "execution_count": null,
   "outputs": [
    {
     "output_type": "stream",
     "text": [
      "AUC: 0.9983436731328145\n"
     ],
     "name": "stdout"
    }
   ]
  },
  {
   "cell_type": "markdown",
   "metadata": {
    "id": "Y-R9L8qh4qtU"
   },
   "source": [
    "## Multiclass classifier\n",
    "* si può usare classificatori binary (tipo SVM) addestrando più classificatori con politiche OvA( one vs all), OvO(one vs one)\n",
    "* usando classificatori già multiclass (tipo SGDClassifier, Random Forest)\n",
    "* sklearn riconosce il tipo di classificatore e usa OvA o OvO di nascosto"
   ]
  },
  {
   "cell_type": "code",
   "metadata": {
    "colab": {
     "base_uri": "https://localhost:8080/"
    },
    "id": "XNtS_lRi2qtz",
    "outputId": "4b209d04-54af-4d01-9bb4-72402edea5dc"
   },
   "source": [
    " # test con SVM, qua sotto usa OvO, con MINIST genera 45 classificatori binari SVM\n",
    " from sklearn.svm import SVC\n",
    " svm = SVC()\n",
    " svm.fit(X_train, y_train)"
   ],
   "execution_count": null,
   "outputs": [
    {
     "output_type": "execute_result",
     "data": {
      "text/plain": [
       "SVC(C=1.0, break_ties=False, cache_size=200, class_weight=None, coef0=0.0,\n",
       "    decision_function_shape='ovr', degree=3, gamma='scale', kernel='rbf',\n",
       "    max_iter=-1, probability=False, random_state=None, shrinking=True,\n",
       "    tol=0.001, verbose=False)"
      ]
     },
     "metadata": {
      "tags": []
     },
     "execution_count": 31
    }
   ]
  },
  {
   "cell_type": "code",
   "metadata": {
    "colab": {
     "base_uri": "https://localhost:8080/"
    },
    "id": "fDZ2obxf7iEW",
    "outputId": "a527c9e3-1cd8-4707-8472-ca616822277d"
   },
   "source": [
    "svm.predict([some_digit])"
   ],
   "execution_count": null,
   "outputs": [
    {
     "output_type": "execute_result",
     "data": {
      "text/plain": [
       "array([5], dtype=uint8)"
      ]
     },
     "metadata": {
      "tags": []
     },
     "execution_count": 32
    }
   ]
  },
  {
   "cell_type": "code",
   "metadata": {
    "colab": {
     "base_uri": "https://localhost:8080/"
    },
    "id": "__pGsJcW7u6O",
    "outputId": "09a95154-9462-4e37-c294-2ed1dbfa1814"
   },
   "source": [
    "some_digit_score = svm.decision_function([some_digit])\n",
    "print(some_digit_score)"
   ],
   "execution_count": null,
   "outputs": [
    {
     "output_type": "stream",
     "text": [
      "[[ 1.72501977  2.72809088  7.2510018   8.3076379  -0.31087254  9.3132482\n",
      "   1.70975103  2.76765202  6.23049537  4.84771048]]\n"
     ],
     "name": "stdout"
    }
   ]
  },
  {
   "cell_type": "code",
   "metadata": {
    "colab": {
     "base_uri": "https://localhost:8080/"
    },
    "id": "q8jokOaI79dz",
    "outputId": "321d523b-9e17-4240-a3de-b48f76bc1529"
   },
   "source": [
    "np.argmax(some_digit_score)"
   ],
   "execution_count": null,
   "outputs": [
    {
     "output_type": "execute_result",
     "data": {
      "text/plain": [
       "5"
      ]
     },
     "metadata": {
      "tags": []
     },
     "execution_count": 34
    }
   ]
  },
  {
   "cell_type": "code",
   "metadata": {
    "id": "qipeLSct8Q7C",
    "colab": {
     "base_uri": "https://localhost:8080/"
    },
    "outputId": "a81dd6e6-434d-47e4-df30-fe8c9c598d30"
   },
   "source": [
    "# force using one versus all\n",
    "from sklearn.multiclass import OneVsRestClassifier\n",
    "ovr = OneVsRestClassifier(SVC())\n",
    "ovr.fit(X_train[:100], y_train[:100]) # too time with bigger training set\n",
    "ovr.predict([some_digit])"
   ],
   "execution_count": null,
   "outputs": [
    {
     "output_type": "execute_result",
     "data": {
      "text/plain": [
       "array([5], dtype=uint8)"
      ]
     },
     "metadata": {
      "tags": []
     },
     "execution_count": 35
    }
   ]
  },
  {
   "cell_type": "code",
   "metadata": {
    "id": "T5SN2hLl8mWl",
    "colab": {
     "base_uri": "https://localhost:8080/"
    },
    "outputId": "225b98e8-c7d0-4f77-be6e-413e886a4c92"
   },
   "source": [
    "# use sgd no OvA or OvO\n",
    "sgd.fit(X_train, y_train)\n",
    "sgd.predict([some_digit])"
   ],
   "execution_count": null,
   "outputs": [
    {
     "output_type": "execute_result",
     "data": {
      "text/plain": [
       "array([3], dtype=uint8)"
      ]
     },
     "metadata": {
      "tags": []
     },
     "execution_count": 36
    }
   ]
  },
  {
   "cell_type": "code",
   "metadata": {
    "id": "33f7Kcyj9Ggb",
    "colab": {
     "base_uri": "https://localhost:8080/"
    },
    "outputId": "f0f5e78f-3d6f-462d-c839-33eb61eb841e"
   },
   "source": [
    "sgd.decision_function([some_digit])"
   ],
   "execution_count": null,
   "outputs": [
    {
     "output_type": "execute_result",
     "data": {
      "text/plain": [
       "array([[-31893.03095419, -34419.69069632,  -9530.63950739,\n",
       "          1823.73154031, -22320.14822878,  -1385.80478895,\n",
       "        -26188.91070951, -16147.51323997,  -4604.35491274,\n",
       "        -12050.767298  ]])"
      ]
     },
     "metadata": {
      "tags": []
     },
     "execution_count": 37
    }
   ]
  },
  {
   "cell_type": "code",
   "metadata": {
    "id": "j1WhjOA99r_D",
    "colab": {
     "base_uri": "https://localhost:8080/"
    },
    "outputId": "027b090f-ec7e-49c4-a78b-23ba8fbc15e7"
   },
   "source": [
    "val_score = cross_val_score(sgd, X_train, y_train, cv=3, scoring=\"accuracy\")\n",
    "print(f'Cross validation scores: {val_score}')"
   ],
   "execution_count": null,
   "outputs": [
    {
     "output_type": "stream",
     "text": [
      "Cross validation scores: [0.87365 0.85835 0.8689 ]\n"
     ],
     "name": "stdout"
    }
   ]
  },
  {
   "cell_type": "code",
   "metadata": {
    "id": "JMPWFAFa99UE"
   },
   "source": [
    "# using standard scaler\n",
    "from sklearn.preprocessing import StandardScaler\n",
    "scaler = StandardScaler()\n",
    "X_train_scaled = scaler.fit_transform(X_train.astype(np.float64))\n",
    "scaled_val_score = cross_val_score(sgd, X_train_scaled, y_train, cv=3, scoring=\"accuracy\")\n",
    "print(f'Cross validation scores with scaling: {scaled_val_score}')"
   ],
   "execution_count": null,
   "outputs": []
  },
  {
   "cell_type": "code",
   "metadata": {
    "id": "cOX5xwgt_aDF"
   },
   "source": [
    "# Error analysis\n",
    "y_train_pred = cross_val_predict(sgd, X_train_scaled, y_train, cv=3)\n",
    "conf_mx = confusion_matrix(y_train, y_train_pred)\n",
    "print(conf_mx)"
   ],
   "execution_count": null,
   "outputs": []
  },
  {
   "cell_type": "code",
   "metadata": {
    "id": "JALgxOZhAR5u"
   },
   "source": [
    "plt.matshow(conf_mx, cmap=plt.cm.gray)\n",
    "plt.show()"
   ],
   "execution_count": null,
   "outputs": []
  },
  {
   "cell_type": "code",
   "metadata": {
    "id": "_9EjwOBDAzf1"
   },
   "source": [
    "# show the errors\n",
    "row_sums = conf_mx.sum(axis=1, keepdims=True)\n",
    "norm_conf_mx = conf_mx / row_sums\n",
    "# fill diagonal for keep out the correct and isolate only errors\n",
    "np.fill_diagonal(norm_conf_mx, 0)\n",
    "plt.matshow(norm_conf_mx, cmap=plt.cm.gray)\n",
    "plt.show()"
   ],
   "execution_count": null,
   "outputs": []
  }
 ]
}